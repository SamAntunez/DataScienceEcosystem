{
 "cells": [
  {
   "cell_type": "markdown",
   "id": "ae31d720",
   "metadata": {},
   "source": [
    "# Data Science Ecosystem"
   ]
  },
  {
   "cell_type": "markdown",
   "id": "2ff6c52d",
   "metadata": {},
   "source": [
    "This title suggests that the notebook will provide a comprehensive and exploratory overview of the broad world of data science, focusing on the various tools and ecosystem that are central to the field."
   ]
  },
  {
   "cell_type": "markdown",
   "id": "26234fd4",
   "metadata": {},
   "source": [
    "Some of the popular languages used by Data Scientists are:\n",
    "\n",
    "1. Python\n",
    "2. R\n",
    "3. SQL\n"
   ]
  },
  {
   "cell_type": "markdown",
   "id": "f9c08fe1",
   "metadata": {},
   "source": [
    "Some of the commonly used libraries used by Data Scientists include:\n",
    "\n",
    "1. Pandas\n",
    "2. NumPy\n",
    "3. Matplotlib\n"
   ]
  },
  {
   "cell_type": "markdown",
   "id": "4b345a5c",
   "metadata": {},
   "source": [
    "Data science tools:\n",
    "| DATA SCIENCE TOOL |\n",
    "| --------------------------------- |\n",
    "| Jupyter Notebooks                |\n",
    "| RStudio                           |\n",
    "| VSCode + Python Extension         |"
   ]
  },
  {
   "cell_type": "markdown",
   "id": "9dafd8d3",
   "metadata": {},
   "source": [
    "### Below are a few examples of evaluating arithmetic expressions in Python."
   ]
  },
  {
   "cell_type": "code",
   "execution_count": 4,
   "id": "dbea94fe",
   "metadata": {},
   "outputs": [
    {
     "data": {
      "text/plain": [
       "17"
      ]
     },
     "execution_count": 4,
     "metadata": {},
     "output_type": "execute_result"
    }
   ],
   "source": [
    "# This is a simple arithmetic expression to multiply then add integers.\n",
    "result = (3 * 4) + 5\n",
    "result"
   ]
  },
  {
   "cell_type": "code",
   "execution_count": 6,
   "id": "14c510cc",
   "metadata": {},
   "outputs": [
    {
     "data": {
      "text/plain": [
       "3.3333333333333335"
      ]
     },
     "execution_count": 6,
     "metadata": {},
     "output_type": "execute_result"
    }
   ],
   "source": [
    "# This will convert 200 minutes to hours by dividing by 60.\n",
    "minutes = 200\n",
    "hours = minutes / 60\n",
    "hours"
   ]
  },
  {
   "cell_type": "markdown",
   "id": "d1de95c5",
   "metadata": {},
   "source": [
    "**Objectives:**\n",
    "\n",
    "- List popular languages for Data Science.\n",
    "- List of most used data science libraries\n",
    "- Data Science Tools\n",
    "- Introduce the Data Science Ecosystem.\n",
    "- Demonstrate the creation of Markdown cells in Jupyter Notebooks.\n",
    "- Show examples of arithmetic expressions in Python.\n",
    "- Illustrate the conversion of minutes to hours using Python code."
   ]
  },
  {
   "cell_type": "markdown",
   "id": "22d81abb",
   "metadata": {},
   "source": [
    "## Author\n",
    "Samuel Antunez"
   ]
  },
  {
   "cell_type": "code",
   "execution_count": null,
   "id": "086e49cf",
   "metadata": {},
   "outputs": [],
   "source": []
  }
 ],
 "metadata": {
  "kernelspec": {
   "display_name": "Python 3 (ipykernel)",
   "language": "python",
   "name": "python3"
  },
  "language_info": {
   "codemirror_mode": {
    "name": "ipython",
    "version": 3
   },
   "file_extension": ".py",
   "mimetype": "text/x-python",
   "name": "python",
   "nbconvert_exporter": "python",
   "pygments_lexer": "ipython3",
   "version": "3.11.5"
  }
 },
 "nbformat": 4,
 "nbformat_minor": 5
}
